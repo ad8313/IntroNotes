{
  "cells": [
    {
      "cell_type": "markdown",
      "metadata": {
        "id": "view-in-github",
        "colab_type": "text"
      },
      "source": [
        "<a href=\"https://colab.research.google.com/github/ad8313/IntroNotes/blob/main/notes/A-Introduction_to_iPython_Notebooks.ipynb\" target=\"_parent\"><img src=\"https://colab.research.google.com/assets/colab-badge.svg\" alt=\"Open In Colab\"/></a>"
      ]
    },
    {
      "cell_type": "markdown",
      "metadata": {
        "id": "T6zBK1WAM8Ef"
      },
      "source": [
        "# Python Primer: The Basics\n",
        "\n",
        "This is a notebook file. It is an interactive document that you can edit on the fly, and you can use it to write and execute programs. You can learn more about the interface by reading the [online documentation](http://jupyter-notebook.readthedocs.io/en/stable/examples/Notebook/Notebook%20Basics.html), although it should be pretty simple to understand what is going on without any documentation.\n",
        "\n",
        "You can also click \"Help : User Interface tour\" from the menu, which will explain the basics of the notebook."
      ]
    },
    {
      "cell_type": "markdown",
      "metadata": {
        "id": "CD6S3o8SM8Eh"
      },
      "source": [
        "## Our first Python program\n",
        "\n",
        "Traditionally, every time that we start learning a new language, we start with a program that prints \"Hello World\" in the output."
      ]
    },
    {
      "cell_type": "code",
      "execution_count": 1,
      "metadata": {
        "id": "CdEXcwf9M8Eh",
        "outputId": "80f92e23-a44b-427a-ce71-86af03286af3",
        "colab": {
          "base_uri": "https://localhost:8080/"
        }
      },
      "outputs": [
        {
          "output_type": "stream",
          "name": "stdout",
          "text": [
            "Hello World\n"
          ]
        }
      ],
      "source": [
        "print(\"Hello World\")"
      ]
    },
    {
      "cell_type": "markdown",
      "metadata": {
        "id": "BnmuI0ZyM8Ei"
      },
      "source": [
        "To run the \"Hello World\" program above, just select the code cell, and then click the \"Run\" button from the toolbar. Alternatively, you can also press Ctrl + Enter, if you prefer to use keyboard shortcuts. You can discover more keyboard shortcuts by selecting \"Help : Keyboard Shortcuts\" from the menu."
      ]
    },
    {
      "cell_type": "markdown",
      "metadata": {
        "id": "PAXloXSXM8Ej"
      },
      "source": [
        "### Exercise\n",
        "\n",
        "Print your own message:"
      ]
    },
    {
      "cell_type": "code",
      "execution_count": null,
      "metadata": {
        "id": "ZP6VCpPYM8Ej"
      },
      "outputs": [],
      "source": [
        "# your code here"
      ]
    },
    {
      "cell_type": "markdown",
      "metadata": {
        "id": "I_--LAh2M8Ej"
      },
      "source": [
        "## Comments\n",
        "\n",
        "You will have noticed in the cell above the line\n",
        "`# your code here`\n",
        "\n",
        "This is a _comment in the code_\n",
        "\n",
        "Comments are notes in your source code that aren't exectued when your code is run. These are useful for reminding yourself what your code does, and for notifying others to your intentions."
      ]
    },
    {
      "cell_type": "code",
      "execution_count": null,
      "metadata": {
        "id": "mTeUBhLqM8Ek"
      },
      "outputs": [],
      "source": [
        "# A comment\n",
        "#\n",
        "# We use comments to write down things that we want to rememember\n",
        "# or instructions for other users that will read/use our code\n",
        "\n",
        "# Anything after the # is ignored by python.\n",
        "\n",
        "print(\"I could have written code like this.\")  # the comment after is ignored"
      ]
    },
    {
      "cell_type": "code",
      "execution_count": null,
      "metadata": {
        "id": "roVZH6tDM8Ek"
      },
      "outputs": [],
      "source": [
        "# You can also use a comment to \"disable\" or comment out a piece of code:\n",
        "# print(\"This won't run.\")\n",
        "\n",
        "print(\"This will run.\")"
      ]
    },
    {
      "cell_type": "markdown",
      "metadata": {
        "id": "Vs0XcGEqM8El"
      },
      "source": [
        "### Exercise\n",
        "\n",
        "Fix the code below, so that it runs:"
      ]
    },
    {
      "cell_type": "code",
      "execution_count": null,
      "metadata": {
        "id": "6ghtQEcDM8El"
      },
      "outputs": [],
      "source": [
        "# print(\"Hi Panos!''"
      ]
    },
    {
      "cell_type": "markdown",
      "metadata": {
        "id": "uHE99UEUM8El"
      },
      "source": [
        "## Multiline comments\n",
        "\n",
        "Python has single line and multiline comments. These multiline comments are also called _docstrings_ because they are often used to write documentation for the code."
      ]
    },
    {
      "cell_type": "code",
      "execution_count": null,
      "metadata": {
        "id": "Bz_UGI8UM8El"
      },
      "outputs": [],
      "source": [
        "# This is a single line comment\n",
        "# This a second single line comment\n",
        "\n",
        "print(\"trying out some comments\")\n",
        "\"\"\"This code is used to print\n",
        "a message of your choice. Notice that\n",
        "this message that is included in the triple double\n",
        "quotes will not execute.\"\"\"\n",
        "\n",
        "print(\"python ftw\")"
      ]
    },
    {
      "cell_type": "markdown",
      "metadata": {
        "id": "ciSAO5CTM8Em"
      },
      "source": [
        "## Notebooks: Markdown for text\n",
        "\n",
        "In notebooks, you can simply double click on a piece of text and then edit it. To restore it back, from edit mode, press \"Run\". Markdown is a very simple language for formatting text, and you can read further instructions by going to \"Help : Markdown\" from the menu, or checking the [online examples](http://jupyter-notebook.readthedocs.io/en/stable/examples/Notebook/Working%20With%20Markdown%20Cells.html)\n",
        "\n",
        "Below, we will see a few examples."
      ]
    },
    {
      "cell_type": "markdown",
      "metadata": {
        "id": "cVnEFvScM8Em"
      },
      "source": [
        "# Big Header\n",
        "## Smaller Header\n",
        "### A little smaller header\n",
        "#### Getting smaller and smaller\n",
        "##### Very very small header\n",
        "###### I do not even know if this is a header anymore"
      ]
    },
    {
      "cell_type": "markdown",
      "metadata": {
        "id": "ftsnpPTvM8Em"
      },
      "source": [
        "You can write plain text, **bold text**, and _italics_.\n",
        "You can also ~~strike~~ things that were incorrect.\n"
      ]
    },
    {
      "cell_type": "markdown",
      "metadata": {
        "id": "VM0bgOynM8Em"
      },
      "source": [
        "If you want to write code, you can use the backtick characters: `print(\"Hello World\")`\n",
        "\n",
        "Or you can use triple backticks, and can get color coding by specifying the language that you use.\n",
        "```python\n",
        "print(\"Hello World\")\n",
        "```\n",
        "\n",
        "```html\n",
        "<html>\n",
        "    <body>Hello World!</body>\n",
        "</html>\n",
        "```"
      ]
    },
    {
      "cell_type": "markdown",
      "metadata": {
        "id": "U2Hn0oYCM8Em"
      },
      "source": [
        "You can also create bulleted lists:\n",
        "* Learn Python\n",
        "* ...\n",
        "* Millions!"
      ]
    },
    {
      "cell_type": "markdown",
      "metadata": {
        "id": "HpFL2V84M8Em"
      },
      "source": [
        "Or perhaps you want to write ordered lists:\n",
        "1. Learn Python\n",
        "2. Learn SQL\n",
        "3. ....\n",
        "4. Millions!"
      ]
    }
  ],
  "metadata": {
    "kernelspec": {
      "display_name": "Python 3",
      "language": "python",
      "name": "python3"
    },
    "language_info": {
      "codemirror_mode": {
        "name": "ipython",
        "version": 3
      },
      "file_extension": ".py",
      "mimetype": "text/x-python",
      "name": "python",
      "nbconvert_exporter": "python",
      "pygments_lexer": "ipython3",
      "version": "3.8.2"
    },
    "colab": {
      "provenance": [],
      "toc_visible": true,
      "include_colab_link": true
    }
  },
  "nbformat": 4,
  "nbformat_minor": 0
}